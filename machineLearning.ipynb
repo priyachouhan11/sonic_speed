{
 "cells": [
  {
   "cell_type": "code",
   "execution_count": null,
   "metadata": {},
   "outputs": [],
   "source": [
    "from IPython.display import Audio\n",
    "from scipy.io import wavfile\n",
    "import numpy as np"
   ]
  },
  {
   "cell_type": "code",
   "execution_count": null,
   "metadata": {},
   "outputs": [],
   "source": [
    "file_name = 'Rec_wav.wav'"
   ]
  },
  {
   "cell_type": "code",
   "execution_count": null,
   "metadata": {},
   "outputs": [],
   "source": [
    "Audio(file_name)"
   ]
  },
  {
   "cell_type": "code",
   "execution_count": null,
   "metadata": {},
   "outputs": [],
   "source": [
    "data = wavfile.read(file_name)\n",
    "framerate = data[0]\n",
    "sounddata = data[1]\n",
    "time = np.arange(0,len(sounddata))/framerate\n",
    "print(framerate)\n",
    "print(\"Total timez: \",len(sounddata)/framerate)"
   ]
  },
  {
   "cell_type": "code",
   "execution_count": null,
   "metadata": {},
   "outputs": [],
   "source": [
    "# pip install -q transformers"
   ]
  },
  {
   "cell_type": "code",
   "execution_count": null,
   "metadata": {},
   "outputs": [],
   "source": [
    "# pip install soundfile"
   ]
  },
  {
   "cell_type": "code",
   "execution_count": null,
   "metadata": {},
   "outputs": [],
   "source": [
    "import soundfile as sf\n",
    "import librosa\n",
    "import torch\n",
    "from transformers import Wav2Vec2ForCTC, Wav2Vec2Tokenizer"
   ]
  },
  {
   "cell_type": "code",
   "execution_count": null,
   "metadata": {},
   "outputs": [],
   "source": [
    "tokenizer = Wav2Vec2Tokenizer.from_pretrained(\"facebook/wav2vec2-large-960h\")\n",
    "model = Wav2Vec2ForCTC.from_pretrained(\"facebook/wav2vec2-large-960h\")"
   ]
  },
  {
   "cell_type": "code",
   "execution_count": null,
   "metadata": {},
   "outputs": [],
   "source": [
    "input_audio,_ = librosa.load(file_name,sr = 16000)"
   ]
  },
  {
   "cell_type": "code",
   "execution_count": null,
   "metadata": {},
   "outputs": [],
   "source": [
    "input_values = tokenizer(input_audio,return_tensors = \"pt\").input_values\n",
    "logits = model(input_values).logits\n",
    "predicted_ids = torch.argmax(logits,dim=1)\n",
    "text = tokenizer.batch_decode(predicted_ids)[0]"
   ]
  },
  {
   "cell_type": "code",
   "execution_count": null,
   "metadata": {},
   "outputs": [],
   "source": [
    "text"
   ]
  },
  {
   "cell_type": "code",
   "execution_count": null,
   "metadata": {},
   "outputs": [],
   "source": [
    "# import torch\n",
    "# import librosa\n",
    "# import numpy as np\n",
    "# from datasets import load_dataset\n",
    "# from transformers import Wav2Vec2Processor, Wav2Vec2ForCTC, Trainer, TrainingArguments\n",
    "# from jiwer import wer\n"
   ]
  },
  {
   "cell_type": "code",
   "execution_count": null,
   "metadata": {},
   "outputs": [],
   "source": [
    "# # load Dataset\n",
    "# dataset = load_dataset(\"mozilla-foundation/common_voice_11_0\",\"en\",split=\"train\",trust_remote_code=True)\n",
    "\n",
    "# # load audio\n",
    "# def preprocess_audio(batch):\n",
    "#   try:\n",
    "#     audio, sr = librosa.load(batch[\"path\"], sr=16000)\n",
    "#     batch[\"audio_array\"] = audio\n",
    "#   except Exception as e:\n",
    "#     print(f\"Error loading audio: {e}\")\n",
    "#     batch[\"audio_array\"] = None\n",
    "#   return batch\n",
    "\n",
    "\n",
    "# dataset = dataset.map(preprocess_audio)"
   ]
  },
  {
   "cell_type": "markdown",
   "metadata": {},
   "source": [
    "Preprocess Data"
   ]
  },
  {
   "cell_type": "code",
   "execution_count": null,
   "metadata": {},
   "outputs": [],
   "source": [
    "# # Load Wav2Vec2 Processor\n",
    "# processor = Wav2Vec2Processor.from_pretrained(\"facebook/wav2vec2-large-960h\")\n",
    "\n",
    "# # Function to tokenize audio\n",
    "# def prepare_dataset(batch):\n",
    "#     input_values = processor(batch[\"audio_array\"], sampling_rate=16000, return_tensors=\"pt\").input_values\n",
    "#     with processor.as_target_processor():\n",
    "#         labels = processor(batch[\"sentence\"], return_tensors=\"pt\").input_ids\n",
    "#     batch[\"input_values\"] = input_values\n",
    "#     batch[\"labels\"] = labels\n",
    "#     return batch\n",
    "\n",
    "# dataset = dataset.map(prepare_dataset, remove_columns=dataset.column_names)\n"
   ]
  },
  {
   "cell_type": "markdown",
   "metadata": {},
   "source": [
    "Train the Model"
   ]
  },
  {
   "cell_type": "code",
   "execution_count": null,
   "metadata": {},
   "outputs": [],
   "source": [
    "# # Load Pretrained Wav2Vec2 Model\n",
    "# model = Wav2Vec2ForCTC.from_pretrained(\"facebook/wav2vec2-large-960h\")\n",
    "\n",
    "# # Training Arguments\n",
    "# training_args = TrainingArguments(\n",
    "#     output_dir=\"./wav2vec2_model\",\n",
    "#     per_device_train_batch_size=4,\n",
    "#     evaluation_strategy=\"steps\",\n",
    "#     save_steps=500,\n",
    "#     eval_steps=500,\n",
    "#     logging_steps=100,\n",
    "#     learning_rate=5e-5,\n",
    "#     warmup_steps=500,\n",
    "#     save_total_limit=2,\n",
    "#     num_train_epochs=3,\n",
    "#     gradient_accumulation_steps=2,\n",
    "#     fp16=True,\n",
    "#     push_to_hub=False,\n",
    "# )\n",
    "\n",
    "# # Trainer Setup\n",
    "# trainer = Trainer(\n",
    "#     model=model,\n",
    "#     args=training_args,\n",
    "#     train_dataset=dataset,\n",
    "#     tokenizer=processor,\n",
    "# )\n",
    "\n",
    "# # Train Model\n",
    "# trainer.train()"
   ]
  },
  {
   "cell_type": "markdown",
   "metadata": {},
   "source": [
    "Evaluate the Model"
   ]
  },
  {
   "cell_type": "code",
   "execution_count": null,
   "metadata": {},
   "outputs": [],
   "source": [
    "# # Function for WER (Word Error Rate) Evaluation\n",
    "# def compute_wer(preds, labels):\n",
    "#     pred_str = processor.batch_decode(preds, skip_special_tokens=True)\n",
    "#     label_str = processor.batch_decode(labels, skip_special_tokens=True)\n",
    "#     return wer(label_str, pred_str)\n",
    "\n",
    "# # Testing a sample\n",
    "# def test_model(audio_path):\n",
    "#     audio, sr = librosa.load(audio_path, sr=16000)\n",
    "#     input_values = processor(audio, sampling_rate=sr, return_tensors=\"pt\").input_values\n",
    "#     with torch.no_grad():\n",
    "#         logits = model(input_values).logits\n",
    "#     predicted_ids = torch.argmax(logits, dim=-1)\n",
    "#     transcription = processor.batch_decode(predicted_ids)[0]\n",
    "#     return transcription\n",
    "\n",
    "# # Example usage\n",
    "# print(test_model(\"test_audio.wav\"))\n"
   ]
  }
 ],
 "metadata": {
  "kernelspec": {
   "display_name": "Python 3",
   "language": "python",
   "name": "python3"
  },
  "language_info": {
   "codemirror_mode": {
    "name": "ipython",
    "version": 3
   },
   "file_extension": ".py",
   "mimetype": "text/x-python",
   "name": "python",
   "nbconvert_exporter": "python",
   "pygments_lexer": "ipython3",
   "version": "3.11.9"
  }
 },
 "nbformat": 4,
 "nbformat_minor": 2
}
